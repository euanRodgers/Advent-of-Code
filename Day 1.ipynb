{
 "cells": [
  {
   "cell_type": "markdown",
   "id": "1360ca9a",
   "metadata": {},
   "source": [
    "# Question\n",
    "\n",
    "Santa's reindeer typically eat regular reindeer food, but they need a lot of magical energy to deliver presents on Christmas. For that, their favorite snack is a special type of star fruit that only grows deep in the jungle. The Elves have brought you on their annual expedition to the grove where the fruit grows.\n",
    "\n",
    "To supply enough magical energy, the expedition needs to retrieve a minimum of fifty stars by December 25th. Although the Elves assure you that the grove has plenty of fruit, you decide to grab any fruit you see along the way, just in case.\n",
    "\n",
    "Collect stars by solving puzzles. Two puzzles will be made available on each day in the Advent calendar; the second puzzle is unlocked when you complete the first. Each puzzle grants one star. Good luck!\n",
    "\n",
    "The jungle must be too overgrown and difficult to navigate in vehicles or access from the air; the Elves' expedition traditionally goes on foot. As your boats approach land, the Elves begin taking inventory of their supplies. One important consideration is food - in particular, the number of Calories each Elf is carrying (your puzzle input).\n",
    "\n",
    "The Elves take turns writing down the number of Calories contained by the various meals, snacks, rations, etc. that they've brought with them, one item per line. Each Elf separates their own inventory from the previous Elf's inventory (if any) by a blank line.\n",
    "\n",
    "For example, suppose the Elves finish writing their items' Calories and end up with the following list:\n",
    "\n",
    "1000\n",
    "2000\n",
    "3000\n",
    "\n",
    "4000\n",
    "\n",
    "5000\n",
    "6000\n",
    "\n",
    "7000\n",
    "8000\n",
    "9000\n",
    "\n",
    "10000\n",
    "\n",
    "This list represents the Calories of the food carried by five Elves:\n",
    "\n",
    "    The first Elf is carrying food with 1000, 2000, and 3000 Calories, a total of 6000 Calories.\n",
    "    The second Elf is carrying one food item with 4000 Calories.\n",
    "    The third Elf is carrying food with 5000 and 6000 Calories, a total of 11000 Calories.\n",
    "    The fourth Elf is carrying food with 7000, 8000, and 9000 Calories, a total of 24000 Calories.\n",
    "    The fifth Elf is carrying one food item with 10000 Calories.\n",
    "\n",
    "In case the Elves get hungry and need extra snacks, they need to know which Elf to ask: they'd like to know how many Calories are being carried by the Elf carrying the most Calories. In the example above, this is 24000 (carried by the fourth Elf).\n",
    "\n",
    "Find the Elf carrying the most Calories. How many total Calories is that Elf carrying?"
   ]
  },
  {
   "cell_type": "code",
   "execution_count": 39,
   "id": "3b6d70c2",
   "metadata": {},
   "outputs": [
    {
     "name": "stdout",
     "output_type": "stream",
     "text": [
      "74198\n",
      "209914\n"
     ]
    }
   ],
   "source": [
    "# Import Text file with Elves calories\n",
    "\n",
    "f = open('C:/Users/er18/OneDrive - Imperial College London/Codility Practice/Advent of Code/Day1_elfcalories.txt','r')\n",
    "lines = f.readlines()\n",
    "caloriesPerElf = []\n",
    "sumElf=0\n",
    "for i in range(0,len(lines)):\n",
    "    if lines[i] == '\\n':\n",
    "        caloriesPerElf.append(sumElf)\n",
    "        sumElf=0\n",
    "    else:\n",
    "        sumElf+=int(lines[i])\n",
    "print(max(caloriesPerElf))\n",
    "# 3 largest numbers\n",
    "caloriesPerElf.sort()\n",
    "print(sum(caloriesPerElf[-3:]))\n",
    "    "
   ]
  },
  {
   "cell_type": "code",
   "execution_count": 32,
   "id": "1072fbf8",
   "metadata": {},
   "outputs": [
    {
     "data": {
      "text/plain": [
       "241"
      ]
     },
     "execution_count": 32,
     "metadata": {},
     "output_type": "execute_result"
    }
   ],
   "source": [
    "\n"
   ]
  },
  {
   "cell_type": "code",
   "execution_count": null,
   "id": "0f56a4dd",
   "metadata": {},
   "outputs": [],
   "source": []
  }
 ],
 "metadata": {
  "kernelspec": {
   "display_name": "Python 3 (ipykernel)",
   "language": "python",
   "name": "python3"
  },
  "language_info": {
   "codemirror_mode": {
    "name": "ipython",
    "version": 3
   },
   "file_extension": ".py",
   "mimetype": "text/x-python",
   "name": "python",
   "nbconvert_exporter": "python",
   "pygments_lexer": "ipython3",
   "version": "3.9.13"
  }
 },
 "nbformat": 4,
 "nbformat_minor": 5
}
